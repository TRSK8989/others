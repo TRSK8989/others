{
 "cells": [
  {
   "cell_type": "code",
   "execution_count": 1,
   "metadata": {},
   "outputs": [],
   "source": [
    "import csv\n",
    "import matplotlib.pyplot as plt\n",
    "import numpy as np\n",
    "%matplotlib inline\n",
    "\n"
   ]
  },
  {
   "cell_type": "code",
   "execution_count": 3,
   "metadata": {},
   "outputs": [
    {
     "ename": "TypeError",
     "evalue": "'float' object cannot be interpreted as an integer",
     "output_type": "error",
     "traceback": [
      "\u001b[0;31m---------------------------------------------------------------------------\u001b[0m",
      "\u001b[0;31mTypeError\u001b[0m                                 Traceback (most recent call last)",
      "\u001b[0;32m<ipython-input-3-8298a4500766>\u001b[0m in \u001b[0;36m<module>\u001b[0;34m\u001b[0m\n\u001b[1;32m     16\u001b[0m \u001b[0mwidth\u001b[0m \u001b[0;34m=\u001b[0m \u001b[0mmax\u001b[0m\u001b[0;34m(\u001b[0m\u001b[0mx\u001b[0m\u001b[0;34m)\u001b[0m \u001b[0;34m//\u001b[0m \u001b[0mmargin\u001b[0m\u001b[0;34m\u001b[0m\u001b[0;34m\u001b[0m\u001b[0m\n\u001b[1;32m     17\u001b[0m \u001b[0mheight\u001b[0m \u001b[0;34m=\u001b[0m \u001b[0mmax\u001b[0m\u001b[0;34m(\u001b[0m\u001b[0my\u001b[0m\u001b[0;34m)\u001b[0m \u001b[0;34m//\u001b[0m \u001b[0mmargin\u001b[0m\u001b[0;34m\u001b[0m\u001b[0;34m\u001b[0m\u001b[0m\n\u001b[0;32m---> 18\u001b[0;31m \u001b[0mimg\u001b[0m \u001b[0;34m=\u001b[0m \u001b[0mnp\u001b[0m\u001b[0;34m.\u001b[0m\u001b[0mzeros\u001b[0m\u001b[0;34m(\u001b[0m\u001b[0;34m[\u001b[0m\u001b[0mheight\u001b[0m \u001b[0;34m+\u001b[0m \u001b[0;36m1\u001b[0m\u001b[0;34m,\u001b[0m \u001b[0mwidth\u001b[0m \u001b[0;34m+\u001b[0m \u001b[0;36m1\u001b[0m\u001b[0;34m]\u001b[0m\u001b[0;34m)\u001b[0m\u001b[0;34m\u001b[0m\u001b[0;34m\u001b[0m\u001b[0m\n\u001b[0m\u001b[1;32m     19\u001b[0m \u001b[0;34m\u001b[0m\u001b[0m\n\u001b[1;32m     20\u001b[0m \u001b[0mpdx\u001b[0m\u001b[0;34m,\u001b[0m \u001b[0mpdxx\u001b[0m\u001b[0;34m,\u001b[0m \u001b[0mpdxy\u001b[0m \u001b[0;34m=\u001b[0m \u001b[0;34m[\u001b[0m\u001b[0;34m]\u001b[0m\u001b[0;34m,\u001b[0m \u001b[0;34m[\u001b[0m\u001b[0;34m]\u001b[0m\u001b[0;34m,\u001b[0m \u001b[0;34m[\u001b[0m\u001b[0;34m]\u001b[0m\u001b[0;34m\u001b[0m\u001b[0;34m\u001b[0m\u001b[0m\n",
      "\u001b[0;31mTypeError\u001b[0m: 'float' object cannot be interpreted as an integer"
     ]
    }
   ],
   "source": [
    "x = []\n",
    "y = []\n",
    "z = []\n",
    "\n",
    "with open(\"test_1124.csv\") as f:\n",
    "    reader = csv.reader(f)\n",
    "    for row in [row for row in reader]:\n",
    "        x.append(row[0])\n",
    "        y.append(int(float(row[1]) * 10000))\n",
    "        z.append(row[2])\n",
    "x = [int(float(r) * 10000) for r in x[1:]]\n",
    "x.insert(0, 0.0)\n",
    "\n",
    "\n",
    "margin = 1\n",
    "width = max(x) // margin\n",
    "height = max(y) // margin\n",
    "img = np.zeros([height + 1, width + 1])\n",
    "\n",
    "pdx, pdxx, pdxy = [], [], []\n",
    "pdy, pdyx, pdyy = [], [], []\n",
    "\n",
    "for i in range(len(z)):\n",
    "    img[y[i] // margin][x[i] // margin] = z[i]\n",
    "print(img)\n",
    "    \n",
    "for h in range(height + 1):\n",
    "    \n",
    "    ret_x = 0\n",
    "    for w in range(width):\n",
    "        if img[h][w] > 0:\n",
    "            ret_x = img[h][w]\n",
    "            dis = margin\n",
    "        else:\n",
    "            dis += margin\n",
    "            \n",
    "        if ret_x > 0 and img[h][w + 1] > 0:\n",
    "            this_grad_x = (img[h][w + 1] - ret_x) / dis\n",
    "            pdx.append(this_grad_x)\n",
    "            pdxx.append(((w + 1) * margin - dis / 2))\n",
    "            pdxy.append(h * margin)\n",
    "                \n",
    "\n",
    "for w in range(width + 1):\n",
    "    \n",
    "    ret_y = 0\n",
    "    for h in range(height):\n",
    "        if img[h][w] > 0:\n",
    "            ret_y = img[h][w]\n",
    "            dis = margin\n",
    "        else:\n",
    "            dis += margin\n",
    "            \n",
    "        if ret_y > 0 and img[h + 1][w] > 0:\n",
    "            this_grad_y = (img[h + 1][w] - ret_y) / dis\n",
    "            pdy.append(this_grad_y)\n",
    "            pdyx.append(w * margin)\n",
    "            pdyy.append(((h + 1) * margin - dis / 2))\n",
    "\n",
    "\n",
    "\n",
    "plt.figure(figsize=(16, 16))\n",
    "plt.xlabel(\"X\", fontsize=16)\n",
    "plt.ylabel(\"Y\", fontsize=16)\n",
    "plt.grid()\n",
    "plt.plot(x, y, linestyle='')\n",
    "plt.plot(pdxx, pdxy, linestyle='', color='green')\n",
    "plt.plot(pdyx, pdyy, linestyle='', color='green')\n",
    "\n",
    "for i in range(len(z)):\n",
    "    plt.text(x[i], y[i], str(z[i]), fontsize=12, color=\"blue\", horizontalalignment='center', verticalalignment='center')\n",
    "\n",
    "\n",
    "for i in range(len(pdx)):\n",
    "    plt.text(pdxx[i], pdxy[i], round(pdx[i], 1), fontsize=12, horizontalalignment='center', verticalalignment='center')\n",
    "\n",
    "for i in range(len(pdy)):\n",
    "    plt.text(pdyx[i], pdyy[i], round(pdy[i], 1), fontsize=12, horizontalalignment='center', verticalalignment='center')"
   ]
  },
  {
   "cell_type": "code",
   "execution_count": null,
   "metadata": {},
   "outputs": [],
   "source": []
  }
 ],
 "metadata": {
  "kernelspec": {
   "display_name": "Python 3",
   "language": "python",
   "name": "python3"
  },
  "language_info": {
   "codemirror_mode": {
    "name": "ipython",
    "version": 3
   },
   "file_extension": ".py",
   "mimetype": "text/x-python",
   "name": "python",
   "nbconvert_exporter": "python",
   "pygments_lexer": "ipython3",
   "version": "3.6.9"
  }
 },
 "nbformat": 4,
 "nbformat_minor": 4
}
